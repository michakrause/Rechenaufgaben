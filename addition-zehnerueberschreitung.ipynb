from random import random

aufgaben=100

while True:
    first_tens=int(random() * 9 + 1)*10
    first_ones=int(random() * 9)
    second_tens=int(random() * 9 + 1)*10
    second_ones=int(random() * 9)
    if first_tens + second_tens >= 100:
        continue
    if first_ones + second_ones < 10:
        continue
    first=first_tens+first_ones
    second=second_tens+second_ones
    if first + second >= 100:
        continue
    print(first, "+", second, "=", first+second)
    aufgaben-=1
    if aufgaben <= 0:
        break
